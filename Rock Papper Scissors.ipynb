{
 "cells": [
  {
   "cell_type": "code",
   "execution_count": 1,
   "metadata": {},
   "outputs": [
    {
     "name": "stdout",
     "output_type": "stream",
     "text": [
      "What's your choice? 'r' for rock, 'p' for paper, 's' for scissors\n",
      "s\n",
      "You won\n"
     ]
    }
   ],
   "source": [
    "import random\n",
    "\n",
    "def play():\n",
    "    user = input(\"What's your choice? 'r' for rock, 'p' for paper, 's' for scissors\\n\")\n",
    "    computer = random.choice(['r', 'p', 's'])\n",
    "    \n",
    "    # r>s, s>p. p>r\n",
    "    if user == computer:\n",
    "        return \"It's a tie\"\n",
    "    if is_win(user, computer):\n",
    "        return 'You won'\n",
    "    \n",
    "    return 'You lost!'\n",
    "\n",
    "\n",
    "def is_win(user, opponent):\n",
    "     \n",
    "    if (user == 'r' and opponent == 's') or (user == 's' and opponent == 'p') or \\\n",
    "    (user == 'p'and oppnent == 'r'):\n",
    "        return True\n",
    "    else:\n",
    "        print('Wrong Input!')\n",
    "    \n",
    "\n",
    "print(play())\n",
    "    "
   ]
  }
 ],
 "metadata": {
  "kernelspec": {
   "display_name": "Python 3",
   "language": "python",
   "name": "python3"
  },
  "language_info": {
   "codemirror_mode": {
    "name": "ipython",
    "version": 3
   },
   "file_extension": ".py",
   "mimetype": "text/x-python",
   "name": "python",
   "nbconvert_exporter": "python",
   "pygments_lexer": "ipython3",
   "version": "3.8.5"
  }
 },
 "nbformat": 4,
 "nbformat_minor": 4
}
